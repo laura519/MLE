{
  "nbformat": 4,
  "nbformat_minor": 0,
  "metadata": {
    "colab": {
      "name": "Transpiler un modèle en C : régression linéaire.ipynb",
      "provenance": [],
      "collapsed_sections": []
    },
    "kernelspec": {
      "name": "python3",
      "display_name": "Python 3"
    },
    "language_info": {
      "name": "python"
    }
  },
  "cells": [
    {
      "cell_type": "markdown",
      "source": [
        "# Imports"
      ],
      "metadata": {
        "id": "baOR_htsmiNZ"
      }
    },
    {
      "cell_type": "code",
      "source": [
        "import pandas as pd\n",
        "import joblib\n",
        "import os\n",
        "from sklearn.linear_model import LinearRegression"
      ],
      "metadata": {
        "id": "qDHq7rrYmhmI"
      },
      "execution_count": 1,
      "outputs": []
    },
    {
      "cell_type": "markdown",
      "source": [
        "# Chargement du dataset et du modèle"
      ],
      "metadata": {
        "id": "aNDxhER0MJ8c"
      }
    },
    {
      "cell_type": "code",
      "execution_count": 2,
      "metadata": {
        "colab": {
          "base_uri": "https://localhost:8080/"
        },
        "id": "CVhHqd4Tc7YZ",
        "outputId": "cd16c869-f047-4d0a-ece3-7a70e8e137b3"
      },
      "outputs": [
        {
          "output_type": "stream",
          "name": "stdout",
          "text": [
            "       size  p53_concentration  is_cancerous\n",
            "0 -0.004165           0.001785             1\n",
            "1  0.012898           0.001899             1\n",
            "2  0.013674           0.001193             1\n",
            "3  0.008774           0.003673             0\n",
            "4  0.009751           0.005571             0\n"
          ]
        },
        {
          "output_type": "execute_result",
          "data": {
            "text/plain": [
              "['model.joblib']"
            ]
          },
          "metadata": {},
          "execution_count": 2
        }
      ],
      "source": [
        "# Chargement du dataset\n",
        "df = pd.read_csv(\"tumors.csv\")\n",
        "print(df.head())\n",
        "\n",
        "X = df[[\"size\", \"p53_concentration\"]]\n",
        "y = df[\"is_cancerous\"]\n",
        "\n",
        "\n",
        "# Séparation du dataset en training et testing sets\n",
        "X_train = X[:-10]\n",
        "X_test = X[-10:]\n",
        "\n",
        "y_train = y[:-10]\n",
        "y_test = y[-10:]\n",
        "\n",
        "# Chargement du model\n",
        "model = LinearRegression()\n",
        "\n",
        "model.fit(X_train, y_train)\n",
        "\n",
        "# Sauvegarde du model\n",
        "joblib.dump(model, f\"model.joblib\")"
      ]
    },
    {
      "cell_type": "code",
      "source": [
        "def produce_linear_regression_c_code():\n",
        "\n",
        "    model = joblib.load('model.joblib')\n",
        "\n",
        "    # Thetas\n",
        "    n_thetas = len(model.coef_) + 1\n",
        "    thetas = f\"{model.intercept_}f,\"\n",
        "    for coef in model.coef_:\n",
        "        thetas += str(coef) + \"f,\"\n",
        "    thetas = thetas.strip(\",\")\n",
        "\n",
        "    prediction_code = f\"float thetas[{n_thetas}] = {{{thetas}}};\"\n",
        "\n",
        "    # Features\n",
        "    features=\"\"\n",
        "    for i in range(X_test.shape[0]):\n",
        "      to_predict = X_test.iloc[i].tolist()\n",
        "      feature = \"{\"\n",
        "      for value in to_predict:\n",
        "          feature += str(value) + \"f,\"\n",
        "      features += feature[:-2]\n",
        "      features += \"},\\n\"\n",
        "    \n",
        "    n_sample = X_test.shape[0]\n",
        "    n_feature = X_test.shape[1]\n",
        "\n",
        "    # Code\n",
        "    code = f\"\"\"\n",
        "    #include <stdio.h>\n",
        "\n",
        "    {prediction_code}\n",
        "    float prediction(float *features, int n_feature)\n",
        "    {{\n",
        "        float res = thetas[0];\n",
        "\n",
        "        for (int i = 0; i < n_feature; ++i)\n",
        "            res += features[i] * thetas[i+1];\n",
        "\n",
        "        return res;\n",
        "    }}\n",
        "    int main()\n",
        "    {{\n",
        "        float features[{n_sample}][{n_feature}] = {{{features}}};\n",
        "\n",
        "        for (int i = 0; i < {n_sample}; ++i) {{\n",
        "            printf(\"%f\\\\n\", prediction(features[i], 2));\n",
        "        }}\n",
        "\n",
        "        return 0;\n",
        "    }}\n",
        "    \"\"\"\n",
        "\n",
        "\n",
        "    with open(\"transpiler.c\", \"w\") as f:\n",
        "        f.write(code)"
      ],
      "metadata": {
        "id": "zXdwk33cdBnV"
      },
      "execution_count": 3,
      "outputs": []
    },
    {
      "cell_type": "code",
      "source": [
        "produce_linear_regression_c_code()\n",
        "\n",
        "!gcc transpiler.c -O3 -o transpiler"
      ],
      "metadata": {
        "id": "-CPhCP11dBA_"
      },
      "execution_count": 4,
      "outputs": []
    },
    {
      "cell_type": "code",
      "source": [
        "print(\"Modèle transpilé:\")\n",
        "!./transpiler"
      ],
      "metadata": {
        "colab": {
          "base_uri": "https://localhost:8080/"
        },
        "id": "FCfStt-OdW_L",
        "outputId": "635014e1-259e-4670-a684-8ca8272c66f1"
      },
      "execution_count": 5,
      "outputs": [
        {
          "output_type": "stream",
          "name": "stdout",
          "text": [
            "Modèle transpilé:\n",
            "0.485140\n",
            "-1.236517\n",
            "0.417540\n",
            "0.787183\n",
            "0.768821\n",
            "0.747259\n",
            "-0.069009\n",
            "0.386354\n",
            "0.679163\n",
            "0.804862\n"
          ]
        }
      ]
    },
    {
      "cell_type": "code",
      "source": [
        "print('Modèle non-transpilé:')\n",
        "for i in model.predict(X_test):\n",
        "  print(i)"
      ],
      "metadata": {
        "colab": {
          "base_uri": "https://localhost:8080/"
        },
        "id": "xSvZ-sRBPmCs",
        "outputId": "f4167d18-dd38-475b-ca89-9a932220dc16"
      },
      "execution_count": 6,
      "outputs": [
        {
          "output_type": "stream",
          "name": "stdout",
          "text": [
            "Modèle non-transpilé:\n",
            "0.48513968527496\n",
            "-1.2365165909081623\n",
            "0.4175400010067567\n",
            "0.7871834652335001\n",
            "0.7688207284138135\n",
            "0.7472595589533835\n",
            "-0.06900933399957943\n",
            "0.38635404526424\n",
            "0.6791629943084592\n",
            "0.8048620370086736\n"
          ]
        }
      ]
    },
    {
      "cell_type": "markdown",
      "source": [
        "Les prédictions produites par le modèle transpilé sont bien conformes."
      ],
      "metadata": {
        "id": "U2vV7HP7PCRN"
      }
    }
  ]
}